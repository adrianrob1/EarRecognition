{
 "cells": [
  {
   "cell_type": "markdown",
   "metadata": {},
   "source": [
    "# Ear Detection and Recognition Evaluation"
   ]
  },
  {
   "cell_type": "code",
   "execution_count": 1,
   "metadata": {},
   "outputs": [],
   "source": [
    "DETECTION_MODEL_PATH = 'best-fp16_final.tflite' \n",
    "IMAGE_SIZE_DETECTION = 640\n",
    "IMAGE_SIZE = 224"
   ]
  },
  {
   "cell_type": "markdown",
   "metadata": {},
   "source": [
    "## Detection"
   ]
  },
  {
   "cell_type": "code",
   "execution_count": 2,
   "metadata": {},
   "outputs": [],
   "source": [
    "import numpy as np\n",
    "labels = [[x]*7 for x in range(100)]\n",
    "labels = np.array(labels)"
   ]
  },
  {
   "cell_type": "code",
   "execution_count": 3,
   "metadata": {},
   "outputs": [],
   "source": [
    "def predict(save_dir='crops',save_crop=True):\n",
    "  from yolov5.utils.general import non_max_suppression, scale_coords, check_img_size\n",
    "  from yolov5.models.common import DetectMultiBackend\n",
    "  from yolov5.utils.torch_utils import select_device\n",
    "  from yolov5.utils.datasets import LoadImages\n",
    "  from yolov5.utils.plots import save_one_box\n",
    "  from pathlib import Path\n",
    "  import torch\n",
    "  import cv2\n",
    "\n",
    "  device = select_device('')\n",
    "  imgsz = [IMAGE_SIZE_DETECTION, IMAGE_SIZE_DETECTION]\n",
    "\n",
    "  preds = []\n",
    "\n",
    "  model = DetectMultiBackend(DETECTION_MODEL_PATH, device=device, data='yolov5/data/coco128.yaml')\n",
    "\n",
    "  stride, names, pt, jit, onnx, engine = model.stride, model.names, model.pt, model.jit, model.onnx, model.engine\n",
    "\n",
    "  imgsz = check_img_size(imgsz, s=stride)  # check image size\n",
    "\n",
    "  # Half\n",
    "  half = False\n",
    "  half &= (pt or jit or onnx or engine) and device.type != 'cpu'  # FP16 supported on limited backends with CUDA\n",
    "  if pt or jit:\n",
    "    model.model.half() if half else model.model.float()\n",
    "\n",
    "  model.warmup(imgsz=(1, 3, *imgsz))  # warmup\n",
    "  \n",
    "  dataset = LoadImages(DATASET_PATH, img_size=imgsz, stride=stride, auto=pt)\n",
    "\n",
    "  for path, im, im0s, vid_cap, s in dataset:\n",
    "    # Convert\n",
    "    im = im.transpose((1, 2, 0))\n",
    "    im = cv2.cvtColor(im, cv2.COLOR_RGB2GRAY)\n",
    "    im = cv2.cvtColor(im, cv2.COLOR_GRAY2RGB)\n",
    "    im = im.transpose((2, 0, 1))\n",
    "    \n",
    "    im = torch.from_numpy(im).to(device)\n",
    "    im = im / 255.0  # 0 - 255 to 0.0 - 1.0\n",
    "    if len(im.shape) == 3:\n",
    "            im = im[None]  # expand for batch dim\n",
    "\n",
    "    pred = model(im)\n",
    "\n",
    "    # NMS\n",
    "    pred = non_max_suppression(pred, max_det=1)\n",
    "\n",
    "    # Save cropped image\n",
    "    for det in pred:  # per image\n",
    "      p, im0, frame = path, im0s.copy(), getattr(dataset, 'frame', 0)\n",
    "      p = Path(p)  # to Path\n",
    "\n",
    "      imc = im0.copy() if save_crop else im0  # for save_crop\n",
    "      if len(det):\n",
    "        # Rescale boxes from img_size to im0 size\n",
    "        det[:, :4] = scale_coords(im.shape[2:], det[:, :4], im0.shape).round()\n",
    "        \n",
    "        # Write results\n",
    "        for *xyxy, conf, cls in reversed(det):\n",
    "          f = Path(f'{save_dir}/{p.stem}.jpg')\n",
    "          save_one_box(xyxy, imc, file=f, BGR=True)\n",
    "      else:\n",
    "        cv2.imwrite(f'{save_dir}/{p.stem}.jpg', im0)\n",
    "\n",
    "\n",
    "  return preds"
   ]
  },
  {
   "cell_type": "code",
   "execution_count": 11,
   "metadata": {},
   "outputs": [
    {
     "name": "stderr",
     "output_type": "stream",
     "text": [
      "YOLOv5  v6.0-224-g4c40933 torch 1.10.2+cpu CPU\n",
      "\n",
      "Loading best-fp16_final.tflite for TensorFlow Lite inference...\n"
     ]
    }
   ],
   "source": [
    "preds = predict()"
   ]
  },
  {
   "cell_type": "markdown",
   "metadata": {},
   "source": [
    "## Load Dataset"
   ]
  },
  {
   "cell_type": "code",
   "execution_count": 1,
   "metadata": {},
   "outputs": [],
   "source": [
    "def get_resized_dataset():\n",
    "  from tensorflow import keras\n",
    "  import os\n",
    "  import numpy as np\n",
    "  from keras.preprocessing.image import img_to_array, load_img\n",
    "  import cv2\n",
    "\n",
    "  resized_images = []\n",
    "  img_folder = 'crops'\n",
    "  filepaths = os.listdir(img_folder)\n",
    "  filepaths.sort()\n",
    "  for f in filepaths:\n",
    "    if any([f.endswith(x) for x in ['.jpeg', '.jpg', '.png']]):\n",
    "\n",
    "      image_path=os.path.join(img_folder, f)\n",
    "      \n",
    "      image = img_to_array(load_img(image_path))\n",
    "      desired_size = IMAGE_SIZE\n",
    "\n",
    "      old_size = image.shape[:2] # old_size is in (height, width) format\n",
    "\n",
    "      ratio = float(desired_size)/max(old_size)\n",
    "      new_size = tuple([int(x*ratio) for x in old_size])\n",
    "\n",
    "      # new_size should be in (width, height) format\n",
    "\n",
    "      image = cv2.resize(image, (new_size[1], new_size[0]))\n",
    "\n",
    "      delta_w = desired_size - new_size[1]\n",
    "      delta_h = desired_size - new_size[0]\n",
    "      top, bottom = delta_h//2, delta_h-(delta_h//2)\n",
    "      left, right = delta_w//2, delta_w-(delta_w//2)\n",
    "\n",
    "      color = [0, 0, 0]\n",
    "      new_im = cv2.copyMakeBorder(image, top, bottom, left, right, cv2.BORDER_CONSTANT,\n",
    "          value=color)\n",
    "      #new_im = cv2.cvtColor(new_im, cv2.COLOR_RGB2GRAY)\n",
    "      #new_im = cv2.cvtColor(new_im, cv2.COLOR_GRAY2RGB)\n",
    "      resized_images.append(img_to_array(new_im))\n",
    "  return np.array(resized_images)"
   ]
  },
  {
   "cell_type": "code",
   "execution_count": 2,
   "metadata": {},
   "outputs": [],
   "source": [
    "def get_awe_dataset():\n",
    "  from keras.preprocessing.image import img_to_array\n",
    "  import numpy as np\n",
    "  import cv2\n",
    "  import os\n",
    "  img_folder = 'awe'\n",
    "  img_data_array=[]\n",
    "  labels=[]\n",
    "\n",
    "  id = 0\n",
    "  dirs = os.listdir(img_folder)\n",
    "  dirs.sort()\n",
    "  for dirl in dirs:\n",
    "    if('.' in dirl):\n",
    "      continue\n",
    "    filepaths = os.listdir(os.path.join(img_folder,dirl))\n",
    "    filepaths.sort()\n",
    "    for file in filepaths:\n",
    "      if any([file.endswith(x) for x in ['.jpeg', '.jpg', '.png']]):\n",
    "\n",
    "        image_path=os.path.join(img_folder,dirl,file)\n",
    "\n",
    "        image = cv2.imread(image_path)\n",
    "\n",
    "        image = cv2.cvtColor(image, cv2.COLOR_BGR2RGB)\n",
    "        #image = cv2.cvtColor(image, cv2.COLOR_GRAY2RGB)\n",
    "        \n",
    "        image = img_to_array(image)\n",
    "        \n",
    "        desired_size = IMAGE_SIZE\n",
    "\n",
    "        old_size = image.shape[:2] # old_size is in (height, width) format\n",
    "\n",
    "        ratio = float(desired_size)/max(old_size)\n",
    "        new_size = tuple([int(x*ratio) for x in old_size])\n",
    "\n",
    "        # new_size should be in (width, height) format\n",
    "\n",
    "        image = cv2.resize(image, (new_size[1], new_size[0]))\n",
    "        \n",
    "\n",
    "        delta_w = desired_size - new_size[1]\n",
    "        delta_h = desired_size - new_size[0]\n",
    "        top, bottom = delta_h//2, delta_h-(delta_h//2)\n",
    "        left, right = delta_w//2, delta_w-(delta_w//2)\n",
    "\n",
    "        new_im = cv2.copyMakeBorder(image, top, bottom, left, right, cv2.BORDER_REPLICATE)\n",
    "        \n",
    "        new_im = img_to_array(new_im)\n",
    "\n",
    "        #new_im = np.dot(new_im[...,:3], [0.299, 0.587, 0.114])\n",
    "    \n",
    "        img_data_array.append(new_im)\n",
    "        labels.append(id)\n",
    "    id += 1\n",
    "  return np.array(img_data_array), np.array(labels)"
   ]
  },
  {
   "cell_type": "code",
   "execution_count": 25,
   "metadata": {},
   "outputs": [],
   "source": [
    "def get_ami_test_dataset():\n",
    "  from tensorflow import keras\n",
    "  import os\n",
    "  import numpy as np\n",
    "  from keras.preprocessing.image import img_to_array, load_img\n",
    "  import cv2\n",
    "\n",
    "  resized_images = []\n",
    "  img_folder = 'ami_test'\n",
    "  filepaths = os.listdir(img_folder)\n",
    "  filepaths.sort()\n",
    "  for f in filepaths:\n",
    "    if any([f.endswith(x) for x in ['.jpeg', '.jpg', '.png']]):\n",
    "\n",
    "      image_path=os.path.join(img_folder, f)\n",
    "      \n",
    "      image = img_to_array(load_img(image_path))\n",
    "      desired_size = IMAGE_SIZE\n",
    "\n",
    "      old_size = image.shape[:2] # old_size is in (height, width) format\n",
    "\n",
    "      ratio = float(desired_size)/max(old_size)\n",
    "      new_size = tuple([int(x*ratio) for x in old_size])\n",
    "\n",
    "      # new_size should be in (width, height) format\n",
    "\n",
    "      image = cv2.resize(image, (new_size[1], new_size[0]))\n",
    "\n",
    "      delta_w = desired_size - new_size[1]\n",
    "      delta_h = desired_size - new_size[0]\n",
    "      top, bottom = delta_h//2, delta_h-(delta_h//2)\n",
    "      left, right = delta_w//2, delta_w-(delta_w//2)\n",
    "\n",
    "      color = [0, 0, 0]\n",
    "      new_im = cv2.copyMakeBorder(image, top, bottom, left, right, cv2.BORDER_REPLICATE)\n",
    "      #new_im = cv2.cvtColor(new_im, cv2.COLOR_RGB2GRAY)\n",
    "      #new_im = cv2.cvtColor(new_im, cv2.COLOR_GRAY2RGB)\n",
    "      resized_images.append(img_to_array(new_im))\n",
    "  return np.array(resized_images)"
   ]
  },
  {
   "cell_type": "code",
   "execution_count": 13,
   "metadata": {},
   "outputs": [],
   "source": [
    "cropped_dataset = get_resized_dataset()"
   ]
  },
  {
   "cell_type": "code",
   "execution_count": 3,
   "metadata": {},
   "outputs": [],
   "source": [
    "awe_dataset, labels_awe = get_awe_dataset()"
   ]
  },
  {
   "cell_type": "code",
   "execution_count": 26,
   "metadata": {},
   "outputs": [],
   "source": [
    "ami_test_dataset = get_ami_test_dataset()"
   ]
  },
  {
   "cell_type": "code",
   "execution_count": 27,
   "metadata": {},
   "outputs": [
    {
     "data": {
      "text/plain": [
       "(203, 224, 224, 3)"
      ]
     },
     "execution_count": 27,
     "metadata": {},
     "output_type": "execute_result"
    }
   ],
   "source": [
    "ami_test_dataset.shape"
   ]
  },
  {
   "cell_type": "code",
   "execution_count": 115,
   "metadata": {},
   "outputs": [
    {
     "data": {
      "text/plain": [
       "(200, 224, 224, 3)"
      ]
     },
     "execution_count": 115,
     "metadata": {},
     "output_type": "execute_result"
    }
   ],
   "source": [
    "awe_dataset.shape"
   ]
  },
  {
   "cell_type": "code",
   "execution_count": 30,
   "metadata": {},
   "outputs": [],
   "source": [
    "test_dataset = ami_test_dataset\n",
    "num_identities = 29\n",
    "num_templates = 7"
   ]
  },
  {
   "cell_type": "code",
   "execution_count": 31,
   "metadata": {},
   "outputs": [
    {
     "data": {
      "image/png": "[encoded data removed]",
      "text/plain": [
       "<PIL.Image.Image image mode=RGB size=224x224 at 0x23B6F09B760>"
      ]
     },
     "execution_count": 31,
     "metadata": {},
     "output_type": "execute_result"
    }
   ],
   "source": [
    "from keras.preprocessing.image import array_to_img\n",
    "array_to_img(test_dataset[0])"
   ]
  },
  {
   "cell_type": "markdown",
   "metadata": {},
   "source": [
    "## Recognition"
   ]
  },
  {
   "cell_type": "code",
   "execution_count": 32,
   "metadata": {},
   "outputs": [],
   "source": [
    "class MobileRecognitionModel():\n",
    "  def __init__(self, filename):\n",
    "    from tensorflow import keras\n",
    "    model = keras.models.load_model(filename)  # model\n",
    "    output = model.get_layer(index=2).output\n",
    "    input = model.input\n",
    "    self.model = keras.Model(\n",
    "    inputs=input,\n",
    "    outputs=output)\n",
    "\n",
    "    model.summary()\n",
    "  \n",
    "  def predict(self, dataset):\n",
    "    from keras.applications.mobilenet_v3 import preprocess_input\n",
    "    data = preprocess_input(dataset)\n",
    "    return self.model.predict(data)"
   ]
  },
  {
   "cell_type": "code",
   "execution_count": 33,
   "metadata": {},
   "outputs": [
    {
     "name": "stdout",
     "output_type": "stream",
     "text": [
      "Model: \"model_3\"\n",
      "_________________________________________________________________\n",
      " Layer (type)                Output Shape              Param #   \n",
      "=================================================================\n",
      " input_6 (InputLayer)        [(None, 224, 224, 3)]     0         \n",
      "                                                                 \n",
      " MobilenetV3large (Functiona  (None, 1, 1, 1280)       4226432   \n",
      " l)                                                              \n",
      "                                                                 \n",
      " flatten_2 (Flatten)         (None, 1280)              0         \n",
      "                                                                 \n",
      "=================================================================\n",
      "Total params: 4,226,432\n",
      "Trainable params: 0\n",
      "Non-trainable params: 4,226,432\n",
      "_________________________________________________________________\n",
      "Model: \"model_4\"\n",
      "_________________________________________________________________\n",
      " Layer (type)                Output Shape              Param #   \n",
      "=================================================================\n",
      " input_6 (InputLayer)        [(None, 224, 224, 3)]     0         \n",
      "                                                                 \n",
      " MobilenetV3large (Functiona  (None, 1, 1, 1280)       4226432   \n",
      " l)                                                              \n",
      "                                                                 \n",
      " flatten_2 (Flatten)         (None, 1280)              0         \n",
      "                                                                 \n",
      "=================================================================\n",
      "Total params: 4,226,432\n",
      "Trainable params: 0\n",
      "Non-trainable params: 4,226,432\n",
      "_________________________________________________________________\n",
      "Model: \"model_8\"\n",
      "_________________________________________________________________\n",
      " Layer (type)                Output Shape              Param #   \n",
      "=================================================================\n",
      " input_6 (InputLayer)        [(None, 224, 224, 3)]     0         \n",
      "                                                                 \n",
      " MobilenetV3large (Functiona  (None, 1, 1, 1280)       4226432   \n",
      " l)                                                              \n",
      "                                                                 \n",
      " flatten_2 (Flatten)         (None, 1280)              0         \n",
      "                                                                 \n",
      "=================================================================\n",
      "Total params: 4,226,432\n",
      "Trainable params: 0\n",
      "Non-trainable params: 4,226,432\n",
      "_________________________________________________________________\n"
     ]
    }
   ],
   "source": [
    "fn_awe = 'fe/model_awe'\n",
    "fn_earvn = 'fe/model_earvn'\n",
    "fn_earvn_ami = 'fe/model_earvn_ami'\n",
    "fe_awe = MobileRecognitionModel(fn_awe)\n",
    "fe_earvn = MobileRecognitionModel(fn_earvn)\n",
    "fe_earvn_ami = MobileRecognitionModel(fn_earvn_ami)"
   ]
  },
  {
   "cell_type": "code",
   "execution_count": 34,
   "metadata": {},
   "outputs": [],
   "source": [
    "def save_tflite_model():\n",
    "  import tensorflow as tf\n",
    "\n",
    "  # Convert the model\n",
    "  converter = tf.lite.TFLiteConverter.from_saved_model('fe/model_earvn_ami') # path to the SavedModel directory\n",
    "  tflite_model = converter.convert()\n",
    "\n",
    "  # Save the model.\n",
    "  with open('model.tflite', 'wb') as f:\n",
    "    f.write(tflite_model)\n",
    "\n",
    "#save_tflite_model()"
   ]
  },
  {
   "cell_type": "code",
   "execution_count": 35,
   "metadata": {},
   "outputs": [],
   "source": [
    "features_awe = fe_awe.predict(test_dataset).reshape(test_dataset.shape[0], -1)\n",
    "features_earvn = fe_earvn.predict(test_dataset).reshape(test_dataset.shape[0], -1)\n",
    "features_earvn_ami = fe_earvn_ami.predict(test_dataset).reshape(test_dataset.shape[0], -1)"
   ]
  },
  {
   "cell_type": "markdown",
   "metadata": {},
   "source": [
    "## Evaluation"
   ]
  },
  {
   "cell_type": "code",
   "execution_count": 36,
   "metadata": {},
   "outputs": [],
   "source": [
    "def sim_matrix(features, measure='correlation'):\n",
    "  import numpy as np\n",
    "  if(measure == 'cosine'):\n",
    "    from numpy import dot\n",
    "    from numpy.linalg import norm\n",
    "    fun = lambda a,b : dot(a, b)/(norm(a)*norm(b))\n",
    "  else:\n",
    "    from numpy import corrcoef\n",
    "    fun = corrcoef\n",
    "  similarityMatrix = []\n",
    "  for feature in features:\n",
    "    if(measure == 'cosine'):\n",
    "      similarityMatrix.append(np.array([fun(feature, x) for x in features]))\n",
    "    else:\n",
    "      return fun(features)\n",
    "  return np.array(similarityMatrix)"
   ]
  },
  {
   "cell_type": "code",
   "execution_count": 37,
   "metadata": {},
   "outputs": [
    {
     "data": {
      "text/plain": [
       "(203, 203)"
      ]
     },
     "execution_count": 37,
     "metadata": {},
     "output_type": "execute_result"
    }
   ],
   "source": [
    "dist_matrix_awe = sim_matrix(features_awe)\n",
    "dist_matrix_awe.shape"
   ]
  },
  {
   "cell_type": "code",
   "execution_count": 38,
   "metadata": {},
   "outputs": [
    {
     "data": {
      "text/plain": [
       "(203, 203)"
      ]
     },
     "execution_count": 38,
     "metadata": {},
     "output_type": "execute_result"
    }
   ],
   "source": [
    "dist_matrix_earvn = sim_matrix(features_earvn)\n",
    "dist_matrix_earvn.shape"
   ]
  },
  {
   "cell_type": "code",
   "execution_count": 39,
   "metadata": {},
   "outputs": [
    {
     "data": {
      "text/plain": [
       "(203, 203)"
      ]
     },
     "execution_count": 39,
     "metadata": {},
     "output_type": "execute_result"
    }
   ],
   "source": [
    "dist_matrix_earvn_ami = sim_matrix(features_earvn_ami)\n",
    "dist_matrix_earvn_ami.shape"
   ]
  },
  {
   "cell_type": "code",
   "execution_count": 40,
   "metadata": {},
   "outputs": [],
   "source": [
    "def confusion_matrix(threshold, sim_matrix, n_identities=100, n_templates=7):\n",
    "  import numpy as np\n",
    "  conf_matrix = np.zeros((2,2)) #[[ GA FR ]\n",
    "                                # [ FA GR ]]\n",
    "  nrows = sim_matrix.shape[0]\n",
    "  ids = range(0, n_identities)\n",
    "  for row in range(nrows):\n",
    "    for id in ids:\n",
    "      elems = np.arange(id * n_templates, (id + 1) * n_templates)\n",
    "      m_label = sim_matrix[row, elems[np.where(elems!=row)]]\n",
    "      if(m_label.max() > threshold):\n",
    "        if(id == row//n_templates):\n",
    "          conf_matrix[0,0] += 1       # GA\n",
    "        else: \n",
    "          conf_matrix[1,0] += 1   # FA\n",
    "      elif(id == row//n_templates):  \n",
    "        conf_matrix[0,1] += 1         # FR\n",
    "      else:\n",
    "        conf_matrix[1,1] += 1         # GR\n",
    "  \n",
    "  return conf_matrix\n",
    "\n",
    "conf_matrix_awe = confusion_matrix(0.98, dist_matrix_awe[:,:], n_identities=num_identities)\n",
    "conf_matrix_earvn = confusion_matrix(0.98, dist_matrix_earvn[:,:], n_identities=num_identities)\n",
    "conf_matrix_earvn_ami = confusion_matrix(0.98, dist_matrix_earvn_ami[:,:], n_identities=num_identities)"
   ]
  },
  {
   "cell_type": "code",
   "execution_count": 41,
   "metadata": {},
   "outputs": [],
   "source": [
    "def genuine_impostor_scores(sim_matrix, n_identities=100, n_templates=7):\n",
    "  import numpy as np\n",
    "  genuine_scores = []\n",
    "  impostor_scores = []\n",
    "  nrows = sim_matrix.shape[0]\n",
    "  for row in range(nrows):\n",
    "    for id in range(n_identities):\n",
    "      elems = np.arange(id * n_templates, (id + 1) * n_templates)\n",
    "      m_label = sim_matrix[row, elems[np.where(elems!=row)]]\n",
    "      if(id == row//n_templates): # genuine\n",
    "        genuine_scores.append(m_label)\n",
    "      else:                       # impostor\n",
    "        impostor_scores.append(m_label)\n",
    "\n",
    "  return np.array(genuine_scores).flatten(), np.array(impostor_scores).flatten()"
   ]
  },
  {
   "cell_type": "code",
   "execution_count": 42,
   "metadata": {},
   "outputs": [
    {
     "data": {
      "text/plain": [
       "((1218,), (39788,))"
      ]
     },
     "execution_count": 42,
     "metadata": {},
     "output_type": "execute_result"
    }
   ],
   "source": [
    "genuine_scores_awe, impostor_scores_awe = genuine_impostor_scores(dist_matrix_awe, n_templates=num_templates, n_identities=num_identities)\n",
    "genuine_scores_awe.shape, impostor_scores_awe.shape"
   ]
  },
  {
   "cell_type": "code",
   "execution_count": 43,
   "metadata": {},
   "outputs": [
    {
     "data": {
      "text/plain": [
       "((1218,), (39788,))"
      ]
     },
     "execution_count": 43,
     "metadata": {},
     "output_type": "execute_result"
    }
   ],
   "source": [
    "genuine_scores_earvn, impostor_scores_earvn = genuine_impostor_scores(dist_matrix_earvn, n_templates=num_templates, n_identities=num_identities)\n",
    "genuine_scores_earvn.shape, impostor_scores_earvn.shape"
   ]
  },
  {
   "cell_type": "code",
   "execution_count": 44,
   "metadata": {},
   "outputs": [
    {
     "data": {
      "text/plain": [
       "((1218,), (39788,))"
      ]
     },
     "execution_count": 44,
     "metadata": {},
     "output_type": "execute_result"
    }
   ],
   "source": [
    "genuine_scores_earvn_ami, impostor_scores_earvn_ami = genuine_impostor_scores(dist_matrix_earvn_ami, n_templates=num_templates, n_identities=num_identities)\n",
    "genuine_scores_earvn_ami.shape, impostor_scores_earvn_ami.shape"
   ]
  },
  {
   "cell_type": "code",
   "execution_count": 45,
   "metadata": {},
   "outputs": [],
   "source": [
    "from pyeer.pyeer.eer_info import get_eer_stats\n",
    "stats_awe = get_eer_stats(genuine_scores_awe, impostor_scores_awe, ds_scores=False)"
   ]
  },
  {
   "cell_type": "code",
   "execution_count": 46,
   "metadata": {},
   "outputs": [],
   "source": [
    "from pyeer.pyeer.eer_info import get_eer_stats\n",
    "stats_earvn = get_eer_stats(genuine_scores_earvn, impostor_scores_earvn, ds_scores=False)"
   ]
  },
  {
   "cell_type": "code",
   "execution_count": 47,
   "metadata": {},
   "outputs": [],
   "source": [
    "from pyeer.pyeer.eer_info import get_eer_stats\n",
    "stats_earvn_ami = get_eer_stats(genuine_scores_earvn_ami, impostor_scores_earvn_ami, ds_scores=False)"
   ]
  },
  {
   "cell_type": "code",
   "execution_count": 48,
   "metadata": {},
   "outputs": [],
   "source": [
    "ids = ['fe_awe', 'fe_earvn', 'fe_earvn_ami']\n",
    "stats = [stats_awe, stats_earvn, stats_earvn_ami]"
   ]
  },
  {
   "cell_type": "code",
   "execution_count": 49,
   "metadata": {},
   "outputs": [],
   "source": [
    "from pyeer.pyeer.plot import plot_eer_stats\n",
    "plot_eer_stats(stats, ids, save_plots=True, lgf_size=10, dpi=1000, bins=200, save_path='./scores/', ext='.jpg')"
   ]
  },
  {
   "cell_type": "code",
   "execution_count": null,
   "metadata": {},
   "outputs": [],
   "source": [
    "from pyeer.pyeer.report import generate_eer_report\n",
    "filename = 'scores/report.csv'\n",
    "generate_eer_report(stats, ids, filename)"
   ]
  }
 ],
 "metadata": {
  "interpreter": {
   "hash": "0c040e838a7bd04f7319692534fe2800783301987b3c6d88e0f6d1942bbc1756"
  },
  "kernelspec": {
   "display_name": "Python 3.9.5 64-bit ('.venv': venv)",
   "name": "python3"
  },
  "language_info": {
   "codemirror_mode": {
    "name": "ipython",
    "version": 3
   },
   "file_extension": ".py",
   "mimetype": "text/x-python",
   "name": "python",
   "nbconvert_exporter": "python",
   "pygments_lexer": "ipython3",
   "version": "3.9.5"
  },
  "orig_nbformat": 4
 },
 "nbformat": 4,
 "nbformat_minor": 2
}

{
 "cells": [
  {
   "cell_type": "markdown",
   "metadata": {},
   "source": [
    "# Ear Detection and Recognition Evaluation"
   ]
  },
  {
   "cell_type": "code",
   "execution_count": 4,
   "metadata": {},
   "outputs": [],
   "source": [
    "DETECTION_MODEL_PATH = 'best-fp16.tflite' \n",
    "DATASET_PATH = './ami'\n",
    "IMAGE_SIZE_DETECTION = 640\n",
    "IMAGE_SIZE = 224"
   ]
  },
  {
   "cell_type": "markdown",
   "metadata": {},
   "source": [
    "## Load detection model"
   ]
  },
  {
   "cell_type": "code",
   "execution_count": 5,
   "metadata": {},
   "outputs": [],
   "source": [
    "import numpy as np"
   ]
  },
  {
   "cell_type": "code",
   "execution_count": 3,
   "metadata": {},
   "outputs": [
    {
     "name": "stdout",
     "output_type": "stream",
     "text": [
      "[{'name': 'input_1', 'index': 0, 'shape': array([  1, 640, 640,   3]), 'shape_signature': array([  1, 640, 640,   3]), 'dtype': <class 'numpy.float32'>, 'quantization': (0.0, 0), 'quantization_parameters': {'scales': array([], dtype=float32), 'zero_points': array([], dtype=int32), 'quantized_dimension': 0}, 'sparsity_parameters': {}}] [{'name': 'Identity', 'index': 522, 'shape': array([    1, 25200,     7]), 'shape_signature': array([    1, 25200,     7]), 'dtype': <class 'numpy.float32'>, 'quantization': (0.0, 0), 'quantization_parameters': {'scales': array([], dtype=float32), 'zero_points': array([], dtype=int32), 'quantized_dimension': 0}, 'sparsity_parameters': {}}]\n"
     ]
    }
   ],
   "source": [
    "import tensorflow as tf\n",
    "interpreter = tf.lite.Interpreter(model_path=DETECTION_MODEL_PATH)  # load TFLite model\n",
    "interpreter.allocate_tensors()  # allocate\n",
    "input_details = interpreter.get_input_details()  # inputs\n",
    "output_details = interpreter.get_output_details()  # outputs\n",
    "int8 = input_details[0]['dtype'] == np.uint8  # is TFLite quantized \n",
    "print(input_details, output_details)"
   ]
  },
  {
   "cell_type": "markdown",
   "metadata": {},
   "source": [
    "## Load dataset"
   ]
  },
  {
   "cell_type": "code",
   "execution_count": 7,
   "metadata": {},
   "outputs": [],
   "source": [
    "from tensorflow import keras\n",
    "import os\n",
    "\n",
    "def create_dataset_ami():\n",
    "  from keras.preprocessing.image import load_img, img_to_array\n",
    "  import cv2\n",
    "  img_folder = DATASET_PATH\n",
    "  img_data_array=[]\n",
    "\n",
    "  filepaths = os.listdir(img_folder)\n",
    "  filepaths.sort()\n",
    "  for f in filepaths:\n",
    "    if any([f.endswith(x) for x in ['.jpeg', '.jpg', '.png']]):\n",
    "\n",
    "      image_path=os.path.join(img_folder, f)\n",
    "      \n",
    "      image = img_to_array(load_img(image_path))\n",
    "      \n",
    "      desired_size = IMAGE_SIZE_DETECTION\n",
    "\n",
    "      old_size = image.shape[:2] # old_size is in (height, width) format\n",
    "\n",
    "      ratio = float(desired_size)/max(old_size)\n",
    "      new_size = tuple([int(x*ratio) for x in old_size])\n",
    "\n",
    "      # new_size should be in (width, height) format\n",
    "\n",
    "      image = cv2.resize(image, (new_size[1], new_size[0]))\n",
    "\n",
    "      delta_w = desired_size - new_size[1]\n",
    "      delta_h = desired_size - new_size[0]\n",
    "      top, bottom = delta_h//2, delta_h-(delta_h//2)\n",
    "      left, right = delta_w//2, delta_w-(delta_w//2)\n",
    "\n",
    "      color = [0, 0, 0]\n",
    "      new_im = cv2.copyMakeBorder(image, top, bottom, left, right, cv2.BORDER_CONSTANT,\n",
    "          value=color)\n",
    "      \n",
    "      new_im = img_to_array(new_im)\n",
    "\n",
    "      #new_im = np.dot(new_im[...,:3], [0.299, 0.587, 0.114])\n",
    "  \n",
    "      img_data_array.append(new_im)\n",
    "  \n",
    "  labels = [[x]*7 for x in range(100)]\n",
    "  labels = np.array(labels)\n",
    "\n",
    "  return np.array(img_data_array), labels.flatten()"
   ]
  },
  {
   "cell_type": "code",
   "execution_count": 5,
   "metadata": {},
   "outputs": [],
   "source": [
    "dataset, labels = create_dataset_ami()"
   ]
  },
  {
   "cell_type": "markdown",
   "metadata": {},
   "source": [
    "## Detection"
   ]
  },
  {
   "cell_type": "code",
   "execution_count": 6,
   "metadata": {},
   "outputs": [],
   "source": [
    "def predict(interpreter, data, in_details, out_details):\n",
    "  from yolov5.utils.torch_utils import select_device\n",
    "  from yolov5.utils.general import non_max_suppression\n",
    "  import torch\n",
    "\n",
    "  device = select_device('')\n",
    "  imgsz = (IMAGE_SIZE_DETECTION, IMAGE_SIZE_DETECTION)\n",
    "\n",
    "  preds = []\n",
    "\n",
    "  for img in data:\n",
    "    img = torch.from_numpy(img).to(device)\n",
    "    img = img / 255.0  # 0 - 255 to 0.0 - 1.0\n",
    "    if len(img.shape) == 3:\n",
    "            img = img[None]  # expand for batch dim\n",
    "\n",
    "    imn = img  # image in numpy\n",
    "\n",
    "    if int8:\n",
    "                    scale, zero_point = in_details[0]['quantization']\n",
    "                    imn = (imn / scale + zero_point).astype(np.uint8)  # de-scale\n",
    "    interpreter.set_tensor(in_details[0]['index'], imn)\n",
    "    interpreter.invoke()\n",
    "    pred = interpreter.get_tensor(out_details[0]['index'])\n",
    "\n",
    "    pred[..., 0] *= imgsz[1]  # x\n",
    "    pred[..., 1] *= imgsz[0]  # y\n",
    "    pred[..., 2] *= imgsz[1]  # w\n",
    "    pred[..., 3] *= imgsz[0]  # h\n",
    "    pred = torch.tensor(pred)\n",
    "\n",
    "    # NMS\n",
    "    pred = non_max_suppression(pred, 0.25, 0.45, 2, False, max_det=1)\n",
    "\n",
    "    preds.append(pred)\n",
    "  return preds"
   ]
  },
  {
   "cell_type": "code",
   "execution_count": 7,
   "metadata": {},
   "outputs": [],
   "source": [
    "preds = predict(interpreter, dataset, input_details, output_details)"
   ]
  },
  {
   "cell_type": "code",
   "execution_count": 8,
   "metadata": {},
   "outputs": [],
   "source": [
    "# Process predictions\n",
    "def process_output(dataset, preds, crop=True):\n",
    "  from yolov5.utils.plots import Annotator, colors\n",
    "  from yolov5.utils.general import scale_coords, save_one_box\n",
    "  import torch\n",
    "\n",
    "  index = 0\n",
    "  for img, pred in zip(dataset, preds):  # per image\n",
    "    det = pred[0]\n",
    "    gn = torch.tensor(img.shape)[[1, 0, 1, 0]]  # normalization gain whwh\n",
    "    imc = img.copy() if crop else img  # for cropping\n",
    "    names='earLeft, earRight'\n",
    "    annotator = Annotator(img, line_width=3, example=names)\n",
    "    if len(det):\n",
    "      # Rescale boxes from img_size to im0 size\n",
    "      det[:, :4] = scale_coords(img.shape[2:], det[:, :4], img.shape).round()\n",
    "\n",
    "      # Write results\n",
    "      for *xyxy, conf, cls in reversed(det):\n",
    "        dataset[index] = save_one_box(xyxy, imc, file=str(index)+'.jpg', save=False)\n",
    "    index += 1\n",
    "  return dataset"
   ]
  },
  {
   "cell_type": "code",
   "execution_count": 9,
   "metadata": {},
   "outputs": [],
   "source": [
    "cropped_dataset = process_output(dataset, preds)"
   ]
  },
  {
   "cell_type": "code",
   "execution_count": 10,
   "metadata": {},
   "outputs": [
    {
     "data": {
      "text/plain": [
       "(700, 640, 640, 3)"
      ]
     },
     "execution_count": 10,
     "metadata": {},
     "output_type": "execute_result"
    }
   ],
   "source": [
    "cropped_dataset.shape"
   ]
  },
  {
   "cell_type": "code",
   "execution_count": 12,
   "metadata": {},
   "outputs": [],
   "source": [
    "def save_cropped_dataset(dataset, labels):\n",
    "  import cv2\n",
    "  i = 0\n",
    "  for imn, label in zip(dataset, labels):\n",
    "    bgr = cv2.cvtColor(imn, cv2.COLOR_RGB2BGR)\n",
    "    cv2.imwrite(f'cropped_dataset/{label}_{i}.jpg', bgr)\n",
    "    i+=1"
   ]
  },
  {
   "cell_type": "code",
   "execution_count": 18,
   "metadata": {},
   "outputs": [],
   "source": [
    "save_cropped_dataset(cropped_dataset, labels)"
   ]
  },
  {
   "cell_type": "code",
   "execution_count": 19,
   "metadata": {},
   "outputs": [],
   "source": [
    "cropped_dataset = []"
   ]
  },
  {
   "cell_type": "code",
   "execution_count": 3,
   "metadata": {},
   "outputs": [],
   "source": [
    "def get_resized_dataset():\n",
    "  from tensorflow import keras\n",
    "  from keras.preprocessing.image import img_to_array, load_img\n",
    "  import cv2\n",
    "\n",
    "  resized_images = []\n",
    "  img_folder = './cropped_dataset'\n",
    "  filepaths = os.listdir(img_folder)\n",
    "  filepaths.sort()\n",
    "  for f in filepaths:\n",
    "    if any([f.endswith(x) for x in ['.jpeg', '.jpg', '.png']]):\n",
    "\n",
    "      image_path=os.path.join(img_folder, f)\n",
    "      \n",
    "      image = img_to_array(load_img(image_path))\n",
    "      desired_size = IMAGE_SIZE\n",
    "\n",
    "      old_size = image.shape[:2] # old_size is in (height, width) format\n",
    "\n",
    "      ratio = float(desired_size)/max(old_size)\n",
    "      new_size = tuple([int(x*ratio) for x in old_size])\n",
    "\n",
    "      # new_size should be in (width, height) format\n",
    "\n",
    "      image = cv2.resize(image, (new_size[1], new_size[0]))\n",
    "\n",
    "      delta_w = desired_size - new_size[1]\n",
    "      delta_h = desired_size - new_size[0]\n",
    "      top, bottom = delta_h//2, delta_h-(delta_h//2)\n",
    "      left, right = delta_w//2, delta_w-(delta_w//2)\n",
    "\n",
    "      color = [0, 0, 0]\n",
    "      new_im = cv2.copyMakeBorder(image, top, bottom, left, right, cv2.BORDER_CONSTANT,\n",
    "          value=color)\n",
    "      \n",
    "      resized_images.append(img_to_array(new_im))\n",
    "  return np.array(resized_images)"
   ]
  },
  {
   "cell_type": "code",
   "execution_count": 11,
   "metadata": {},
   "outputs": [],
   "source": [
    "cropped_dataset = []"
   ]
  },
  {
   "cell_type": "code",
   "execution_count": 6,
   "metadata": {},
   "outputs": [],
   "source": [
    "cropped_dataset = get_resized_dataset()"
   ]
  },
  {
   "cell_type": "code",
   "execution_count": 7,
   "metadata": {},
   "outputs": [
    {
     "data": {
      "image/png": "[encoded data removed]",
      "text/plain": [
       "<PIL.Image.Image image mode=RGB size=224x224 at 0x139D7A95DC0>"
      ]
     },
     "execution_count": 7,
     "metadata": {},
     "output_type": "execute_result"
    }
   ],
   "source": [
    "from keras.preprocessing.image import array_to_img\n",
    "array_to_img(cropped_dataset[34])"
   ]
  },
  {
   "cell_type": "markdown",
   "metadata": {},
   "source": [
    "## Recognition"
   ]
  },
  {
   "cell_type": "code",
   "execution_count": 11,
   "metadata": {},
   "outputs": [],
   "source": [
    "class MobileRecognitionModel():\n",
    "  def __init__(self):\n",
    "    from tensorflow import keras\n",
    "    self.model = keras.models.load_model('model_256.h5')  # model\n",
    "    self.model.summary()\n",
    "  \n",
    "  def predict(self, dataset):\n",
    "    return self.model.predict(dataset)"
   ]
  },
  {
   "cell_type": "code",
   "execution_count": 12,
   "metadata": {},
   "outputs": [
    {
     "name": "stdout",
     "output_type": "stream",
     "text": [
      "Model: \"model_3\"\n",
      "_________________________________________________________________\n",
      " Layer (type)                Output Shape              Param #   \n",
      "=================================================================\n",
      " input_6 (InputLayer)        [(None, 224, 224, 3)]     0         \n",
      "                                                                 \n",
      " MobilenetV3large (Functiona  (None, 1280)             4226432   \n",
      " l)                                                              \n",
      "                                                                 \n",
      " batch_normalization_4 (Batc  (None, 1280)             5120      \n",
      " hNormalization)                                                 \n",
      "                                                                 \n",
      " dropout_4 (Dropout)         (None, 1280)              0         \n",
      "                                                                 \n",
      " dense_6 (Dense)             (None, 256)               327936    \n",
      "                                                                 \n",
      "=================================================================\n",
      "Total params: 4,559,488\n",
      "Trainable params: 0\n",
      "Non-trainable params: 4,559,488\n",
      "_________________________________________________________________\n"
     ]
    }
   ],
   "source": [
    "feature_extractor = MobileRecognitionModel()"
   ]
  },
  {
   "cell_type": "code",
   "execution_count": 13,
   "metadata": {},
   "outputs": [],
   "source": [
    "extracted_features = feature_extractor.predict(cropped_dataset)"
   ]
  },
  {
   "cell_type": "markdown",
   "metadata": {},
   "source": [
    "## Evaluation"
   ]
  },
  {
   "cell_type": "code",
   "execution_count": 14,
   "metadata": {},
   "outputs": [],
   "source": [
    "def calc_dist_matrix(features, dist_function='correlation'):\n",
    "  from scipy.spatial.distance import cdist\n",
    "  dist_matrix = cdist(features, features, metric=dist_function)\n",
    "  #df = pd.DataFrame(dist_matrix)\n",
    "  '''\n",
    "  df.loc[-1] = np.array([[x,] * 7 for x in range(0, 100)]).flatten()  # adding a row\n",
    "  df.index = df.index + 1  # shifting index\n",
    "  df.sort_index(inplace=True) \n",
    "  '''\n",
    "  return dist_matrix"
   ]
  },
  {
   "cell_type": "code",
   "execution_count": 27,
   "metadata": {},
   "outputs": [
    {
     "data": {
      "text/plain": [
       "((700, 700), (700, 700))"
      ]
     },
     "execution_count": 27,
     "metadata": {},
     "output_type": "execute_result"
    }
   ],
   "source": [
    "distance_matrix_corr = calc_dist_matrix(extracted_features, 'correlation')\n",
    "distance_matrix_cos = calc_dist_matrix(extracted_features, 'cosine')\n",
    "distance_matrix_corr.shape, distance_matrix_cos.shape"
   ]
  },
  {
   "cell_type": "code",
   "execution_count": 16,
   "metadata": {},
   "outputs": [
    {
     "data": {
      "text/plain": [
       "array([[6.9900e+02, 1.0000e+00],\n",
       "       [4.8797e+04, 2.0503e+04]])"
      ]
     },
     "execution_count": 16,
     "metadata": {},
     "output_type": "execute_result"
    }
   ],
   "source": [
    "def calc_confusion_matrix(threshold, dist_matrix, n_identities=100, n_templates=7):\n",
    "  conf_matrix = np.zeros((2,2)) #[[ GA FR ]\n",
    "                                # [ FA GR ]]\n",
    "  nrows = dist_matrix.shape[0]\n",
    "  ids = range(0, n_identities)\n",
    "  for row in range(nrows):\n",
    "    for id in ids:\n",
    "      elems = np.arange(id * n_templates, (id + 1) * n_templates)\n",
    "      m_label = dist_matrix[row, elems[np.where(elems!=row)]]\n",
    "      if(m_label.min() < threshold):\n",
    "        if(id == row//n_templates):\n",
    "          conf_matrix[0,0] += 1       # GA\n",
    "        else: \n",
    "          conf_matrix[1,0] += 1   # FA\n",
    "      elif(id == row//n_templates):  \n",
    "        conf_matrix[0,1] += 1         # FR\n",
    "      else:\n",
    "        conf_matrix[1,1] += 1         # GR\n",
    "  \n",
    "  return conf_matrix\n",
    "\n",
    "conf_matrix_corr = calc_confusion_matrix(0.4, distance_matrix_corr[:,:], n_identities=100)\n",
    "conf_matrix_cos = calc_confusion_matrix(0.4, distance_matrix_cos[:,:], n_identities=100)"
   ]
  },
  {
   "cell_type": "code",
   "execution_count": 17,
   "metadata": {},
   "outputs": [],
   "source": [
    "def get_genuine_impostor_scores(dist_matrix, n_identities=100, n_templates=7):\n",
    "  genuine_scores = []\n",
    "  impostor_scores = []\n",
    "  nrows = dist_matrix.shape[0]\n",
    "  for row in range(nrows):\n",
    "    for id in range(n_identities):\n",
    "      elems = np.arange(id * n_templates, (id + 1) * n_templates)\n",
    "      m_label = dist_matrix[row, elems[np.where(elems!=row)]]\n",
    "      if(id == row//n_templates): # genuine\n",
    "        genuine_scores.append(m_label)\n",
    "      else:                       # impostor\n",
    "        impostor_scores.append(m_label)\n",
    "\n",
    "  return np.array(genuine_scores).flatten(), np.array(impostor_scores).flatten()"
   ]
  },
  {
   "cell_type": "code",
   "execution_count": 28,
   "metadata": {},
   "outputs": [
    {
     "data": {
      "text/plain": [
       "((4200,), (485100,))"
      ]
     },
     "execution_count": 28,
     "metadata": {},
     "output_type": "execute_result"
    }
   ],
   "source": [
    "genuine_scores_corr, impostor_scores_corr = get_genuine_impostor_scores(distance_matrix_corr)\n",
    "genuine_scores_corr.shape, impostor_scores_corr.shape"
   ]
  },
  {
   "cell_type": "code",
   "execution_count": 29,
   "metadata": {},
   "outputs": [
    {
     "data": {
      "text/plain": [
       "((4200,), (485100,))"
      ]
     },
     "execution_count": 29,
     "metadata": {},
     "output_type": "execute_result"
    }
   ],
   "source": [
    "genuine_scores_cos, impostor_scores_cos = get_genuine_impostor_scores(distance_matrix_cos)\n",
    "genuine_scores_cos.shape, impostor_scores_cos.shape"
   ]
  },
  {
   "cell_type": "code",
   "execution_count": 44,
   "metadata": {},
   "outputs": [],
   "source": [
    "from pyeer.eer_info import get_eer_stats\n",
    "stats_corr = get_eer_stats(genuine_scores_corr, impostor_scores_corr, ds_scores=True)"
   ]
  },
  {
   "cell_type": "code",
   "execution_count": 45,
   "metadata": {},
   "outputs": [],
   "source": [
    "stats_cos = get_eer_stats(genuine_scores_cos, impostor_scores_cos,ds_scores=True)"
   ]
  },
  {
   "cell_type": "code",
   "execution_count": 36,
   "metadata": {},
   "outputs": [],
   "source": [
    "from pyeer.plot import plot_eer_stats\n",
    "from matplotlib import pyplot as plt\n",
    "plot_eer_stats([stats_corr, stats_cos], ['FE_256_corr', 'FE_256_cos'], save_plots=True, lgf_size=10, dpi=1000, bins=200, save_path='./scores/', ext='.jpg')"
   ]
  },
  {
   "cell_type": "code",
   "execution_count": 37,
   "metadata": {},
   "outputs": [],
   "source": [
    "def get_stats(dist_matrix, n_identities=100, n_templates=7):\n",
    "  n_rows = dist_matrix.shape[0]\n",
    "  n_cols = dist_matrix.shape[1]\n",
    "  stats=np.empty((n_rows, n_cols-1, 3))\n",
    "  for row in range(n_rows):\n",
    "    for col in range(n_cols):\n",
    "        if(row!=col):\n",
    "          dist = dist_matrix[row, col]\n",
    "          \n",
    "          i = row\n",
    "          j = col\n",
    "          \n",
    "          if(j>=i):\n",
    "            j -= 1\n",
    "\n",
    "          stats[i,j,0] = row\n",
    "          stats[i,j,1] = col\n",
    "          stats[i, j, 2] = dist\n",
    "\n",
    "  return stats.reshape(-1, 3)"
   ]
  },
  {
   "cell_type": "code",
   "execution_count": 38,
   "metadata": {},
   "outputs": [],
   "source": [
    "def get_tp(dist_matrix, n_templates=7, n_classes=100):\n",
    "  n_rows = dist_matrix.shape[0]\n",
    "  tp = np.empty((n_rows, 2))\n",
    "\n",
    "  for row in range(n_rows):\n",
    "    tp[row, 0] = row\n",
    "    id = row // n_templates\n",
    "    elems = np.arange(id * n_templates, (id + 1) * n_templates)\n",
    "\n",
    "    gen_templ_dists = dist_matrix[row, elems]\n",
    "    \n",
    "    gen_templ_min_dist = np.inf\n",
    "    dist_min = gen_templ_dists.min()  # the min will be ~zero, since it's the\n",
    "                                      # distance from the same vector\n",
    "    argmin = 0\n",
    "    \n",
    "    for i, dist in enumerate(gen_templ_dists): # search second minimum\n",
    "      if(dist != dist_min and dist < gen_templ_min_dist):\n",
    "        gen_templ_min_dist = dist\n",
    "        argmin = i\n",
    "    \n",
    "    tp[row, 1] = id * n_templates + argmin\n",
    "  return tp"
   ]
  },
  {
   "cell_type": "code",
   "execution_count": 23,
   "metadata": {},
   "outputs": [
    {
     "data": {
      "text/plain": [
       "((489300, 3), (700, 2))"
      ]
     },
     "execution_count": 23,
     "metadata": {},
     "output_type": "execute_result"
    }
   ],
   "source": [
    "tp_corr = get_tp(distance_matrix_corr)\n",
    "stats_corr = get_stats(distance_matrix_corr)\n",
    "stats_corr.shape, tp_corr.shape"
   ]
  },
  {
   "cell_type": "code",
   "execution_count": 40,
   "metadata": {},
   "outputs": [
    {
     "data": {
      "text/plain": [
       "((489300, 3), (700, 2))"
      ]
     },
     "execution_count": 40,
     "metadata": {},
     "output_type": "execute_result"
    }
   ],
   "source": [
    "tp_cos = get_tp(distance_matrix_cos)\n",
    "stats_cos = get_stats(distance_matrix_cos)\n",
    "stats_cos.shape, tp_cos.shape"
   ]
  },
  {
   "cell_type": "code",
   "execution_count": 41,
   "metadata": {},
   "outputs": [],
   "source": [
    "def calc_scores(stats, tp, ds_scores=True):\n",
    "  import operator\n",
    "\n",
    "  SCORE_POS = 1\n",
    "  TEMPLATE_POS = 0\n",
    "\n",
    "  matching_scores = {}\n",
    "  for row in tp:\n",
    "    query, template = row\n",
    "    if query in matching_scores:\n",
    "      matching_scores[query][TEMPLATE_POS].append(template)\n",
    "    else:\n",
    "      matching_scores[query] = ([template], [])\n",
    "  \n",
    "  for row in stats:\n",
    "    query, template, score = row\n",
    "    matching_scores[query][SCORE_POS].append((template, score))\n",
    "\n",
    "  for query_match_info in matching_scores.values():\n",
    "        query_match_info[SCORE_POS].sort(key=operator.itemgetter(1),\n",
    "                                        reverse=not ds_scores)\n",
    "  return matching_scores"
   ]
  },
  {
   "cell_type": "code",
   "execution_count": 42,
   "metadata": {},
   "outputs": [],
   "source": [
    "from pyeer.cmc_stats import get_cmc_curve, CMCstats\n",
    "from pyeer.plot import plot_cmc_stats\n",
    "\n",
    "scores_corr = calc_scores(stats_corr, tp_corr)\n",
    "scores_cos = calc_scores(stats_cos, tp_cos)"
   ]
  },
  {
   "cell_type": "code",
   "execution_count": 43,
   "metadata": {},
   "outputs": [],
   "source": [
    "r=20\n",
    "\n",
    "# Calculating CMC curve\n",
    "ranks_corr = get_cmc_curve(scores_corr, r)\n",
    "ranks_cos = get_cmc_curve(scores_cos, r)\n",
    "\n",
    "# Creating stats\n",
    "stats = [CMCstats(exp_id='FE_256_corr', ranks=ranks_corr), CMCstats(exp_id='FE_256_cos', ranks=ranks_cos)]\n",
    "\n",
    "# Plotting\n",
    "plot_cmc_stats(stats, r, save_plots=True, lgf_size=10, dpi=1000, save_path='./scores/', ext='.jpg')"
   ]
  }
 ],
 "metadata": {
  "interpreter": {
   "hash": "0c040e838a7bd04f7319692534fe2800783301987b3c6d88e0f6d1942bbc1756"
  },
  "kernelspec": {
   "display_name": "Python 3.9.5 64-bit ('.venv': venv)",
   "name": "python3"
  },
  "language_info": {
   "codemirror_mode": {
    "name": "ipython",
    "version": 3
   },
   "file_extension": ".py",
   "mimetype": "text/x-python",
   "name": "python",
   "nbconvert_exporter": "python",
   "pygments_lexer": "ipython3",
   "version": "3.9.5"
  },
  "orig_nbformat": 4
 },
 "nbformat": 4,
 "nbformat_minor": 2
}
